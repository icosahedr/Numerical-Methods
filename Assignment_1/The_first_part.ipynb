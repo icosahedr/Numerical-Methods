{
  "nbformat": 4,
  "nbformat_minor": 0,
  "metadata": {
    "colab": {
      "provenance": [],
      "authorship_tag": "ABX9TyPOHADReAzPacXUl0wtP4CK",
      "include_colab_link": true
    },
    "kernelspec": {
      "name": "python3",
      "display_name": "Python 3"
    },
    "language_info": {
      "name": "python"
    }
  },
  "cells": [
    {
      "cell_type": "markdown",
      "metadata": {
        "id": "view-in-github",
        "colab_type": "text"
      },
      "source": [
        "<a href=\"https://colab.research.google.com/github/icosahedr/Numerical-Methods/blob/main/Assignment_1/The_first_part.ipynb\" target=\"_parent\"><img src=\"https://colab.research.google.com/assets/colab-badge.svg\" alt=\"Open In Colab\"/></a>"
      ]
    },
    {
      "cell_type": "markdown",
      "source": [
        "# Problem 2"
      ],
      "metadata": {
        "id": "O8v6IC0ROGXm"
      }
    },
    {
      "cell_type": "markdown",
      "source": [
        "$\\textbf{a)} ||x||_2 ≤ \\sqrt{m} ||x||_{∞}$\n",
        "\n",
        "$||x||_2 = \\sqrt{\\sum_{i=1}^{m} |x_i|^2}$, $||x||_{∞} = \\max{|x_1|, ... , |x_m|}$ \n",
        "\n",
        "$||x||_2 = \\sqrt{\\sum_{i=1}^{m} |x_i|^2} ≤ \\sqrt{\\sum_{i=1}^{m} (\\max{|x_1|, ... , |x_m|})} = \\sqrt{m \\cdot |x|^2_{max} } = \\sqrt{m} |x|_{max} = \\sqrt{m} ||x||_{∞}$\n",
        "\n",
        "Into equalities, when:\n",
        "\n",
        "$x = (0, ... , 0)^T$\n",
        "\n",
        "$x = (1, ... , 1)^T$\n",
        "\n",
        "$\\textbf{b)} ||A||_{∞}≤ \\sqrt{n} ||A||_{2}$\n",
        "\n",
        "$||A||_{\\infty} = \\max_{i}{\\sum_{j = 1}^{m}|a_{ij}|}$\n",
        "\n",
        "$||A||_p = \\max_{x \\neq 0} {\\frac{||Ax||_p}{||x||_p}}$\n",
        "\n",
        "From a): $||x||_2 ≤ \\sqrt{m} ||x||_{∞}$\n",
        "\n",
        "From defines norms $L_2$ and $L_{∞}$ let's assume that:  $||x||_{∞} ≤ ||x||_{2}$\n",
        "\n",
        "Then:\n",
        "\n",
        "$||A||_2 = \\max_{x \\neq 0} {\\frac{||Ax||_2}{||x||_2}} ≤ \\max_{x \\neq 0} {\\frac{\\sqrt{n}||Ax||_{\\infty}}{||x||_2}} ≤ \\max_{x \\neq 0} {\\frac{\\sqrt{n}||Ax||_{\\infty}}{||x||_{∞}}} = \\sqrt{n} ||A||_{\\infty}$\n",
        "\n",
        "It will transform into equalities, when:\n",
        "\n",
        "$A = 0$"
      ],
      "metadata": {
        "id": "PZGcY_QpOCNj"
      }
    },
    {
      "cell_type": "markdown",
      "source": [
        "# Problem 4"
      ],
      "metadata": {
        "id": "ybtfi0u6VyNs"
      }
    },
    {
      "cell_type": "markdown",
      "source": [
        "From the definition: $||A||_{F} = \\sqrt{Tr(A^* A)}$\n",
        "\n",
        "And from property: $U^* U = E$\n",
        "\n",
        "$||UA||_F = \\sqrt{Tr((UA)^*UA)} = \\sqrt{Tr(A^*U^*UA)} = \\sqrt {Tr(A^* A)} = ||A||_F$\n",
        "\n",
        "And from the trace property of the matrix: $||UA||_F = \\sqrt{Tr((UA)^*UA)} = \\sqrt{Tr(A^*U^*UA)} = \\sqrt{Tr(U^*A^*AU)} = \\sqrt{Tr((AU)^*AU)} =  ||AU||_{F}  $\n",
        "\n",
        "Then\n",
        "\n",
        "$||AU||_{F} = ||UA||_F = ||A||_F$\n"
      ],
      "metadata": {
        "id": "Fh0YWU6rV2J7"
      }
    }
  ]
}