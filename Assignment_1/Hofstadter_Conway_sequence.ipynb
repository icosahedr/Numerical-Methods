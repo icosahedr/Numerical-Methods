{
  "nbformat": 4,
  "nbformat_minor": 0,
  "metadata": {
    "colab": {
      "provenance": [],
      "authorship_tag": "ABX9TyP35Mv+Kdn4BtQPdtc53QFS",
      "include_colab_link": true
    },
    "kernelspec": {
      "name": "python3",
      "display_name": "Python 3"
    },
    "language_info": {
      "name": "python"
    }
  },
  "cells": [
    {
      "cell_type": "markdown",
      "metadata": {
        "id": "view-in-github",
        "colab_type": "text"
      },
      "source": [
        "<a href=\"https://colab.research.google.com/github/icosahedr/Numerical-Methods/blob/main/Assignment_1/Hofstadter_Conway_sequence.ipynb\" target=\"_parent\"><img src=\"https://colab.research.google.com/assets/colab-badge.svg\" alt=\"Open In Colab\"/></a>"
      ]
    },
    {
      "cell_type": "code",
      "execution_count": 2,
      "metadata": {
        "id": "0C0J72_oxxw6"
      },
      "outputs": [],
      "source": [
        "import numpy as np\n",
        "from numba import jit"
      ]
    },
    {
      "cell_type": "code",
      "source": [
        "def hof_1(n):\n",
        "  a = np.zeros(n)\n",
        "  a[0] = 1\n",
        "  if n>=2:\n",
        "    a[1] = 2\n",
        "    for i in range(1, n-1, 1):\n",
        "      a[i + 1] = a[int(a[i] - 1)] + a[int(i + 1 - a[i])]\n",
        "  return a\n",
        "\n",
        "\n",
        "def hof_2(n):\n",
        "  a = []\n",
        "  a.append(1)\n",
        "  if n>=2:\n",
        "    a.append(2)\n",
        "    for i in range(1, n-1, 1):\n",
        "      a.append(a[int(a[i] - 1)] + a[int(i + 1 - a[i])])\n",
        "  return np.array(a)\n",
        "\n",
        "@jit(nopython=True)\n",
        "def hof_3(n):\n",
        "  a = np.zeros(n)\n",
        "  a[0] = 1\n",
        "  if n>=2:\n",
        "    a[1] = 2\n",
        "    for i in range(1, n-1, 1):\n",
        "      a[i + 1] = a[int(a[i] - 1)] + a[int(i + 1 - a[i])]\n",
        "  return a"
      ],
      "metadata": {
        "id": "4K9rNgQ3yCIF"
      },
      "execution_count": 3,
      "outputs": []
    },
    {
      "cell_type": "code",
      "source": [
        "print(hof_1(30))\n",
        "print(hof_2(30))\n",
        "print(hof_3(30))"
      ],
      "metadata": {
        "colab": {
          "base_uri": "https://localhost:8080/"
        },
        "id": "yhJNgN5zzo5h",
        "outputId": "6fb7cc29-b781-4930-c2f7-9d73a7bc6757"
      },
      "execution_count": 4,
      "outputs": [
        {
          "output_type": "stream",
          "name": "stdout",
          "text": [
            "[ 1.  2.  3.  4.  5.  6.  7.  8.  9. 10. 11. 12. 13. 14. 15. 16. 17. 18.\n",
            " 19. 20. 21. 22. 23. 24. 25. 26. 27. 28. 29. 30.]\n",
            "[ 1  2  3  4  5  6  7  8  9 10 11 12 13 14 15 16 17 18 19 20 21 22 23 24\n",
            " 25 26 27 28 29 30]\n",
            "[ 1.  2.  3.  4.  5.  6.  7.  8.  9. 10. 11. 12. 13. 14. 15. 16. 17. 18.\n",
            " 19. 20. 21. 22. 23. 24. 25. 26. 27. 28. 29. 30.]\n"
          ]
        }
      ]
    },
    {
      "cell_type": "code",
      "source": [
        "%timeit hof_1(50)"
      ],
      "metadata": {
        "colab": {
          "base_uri": "https://localhost:8080/"
        },
        "id": "S28mErTxztUx",
        "outputId": "1be378ef-089b-4e91-a84b-ded12f74d637"
      },
      "execution_count": 5,
      "outputs": [
        {
          "output_type": "stream",
          "name": "stdout",
          "text": [
            "78.2 µs ± 30.2 µs per loop (mean ± std. dev. of 7 runs, 10000 loops each)\n"
          ]
        }
      ]
    },
    {
      "cell_type": "code",
      "source": [
        "%timeit hof_2(50)"
      ],
      "metadata": {
        "colab": {
          "base_uri": "https://localhost:8080/"
        },
        "id": "itAWmN3U9LQp",
        "outputId": "4c6e326f-6e85-41f4-a4cf-1a6a4b900c32"
      },
      "execution_count": 6,
      "outputs": [
        {
          "output_type": "stream",
          "name": "stdout",
          "text": [
            "25 µs ± 868 ns per loop (mean ± std. dev. of 7 runs, 10000 loops each)\n"
          ]
        }
      ]
    },
    {
      "cell_type": "code",
      "source": [
        "%timeit hof_3(50)"
      ],
      "metadata": {
        "colab": {
          "base_uri": "https://localhost:8080/"
        },
        "id": "Q9oGzIIi9MSq",
        "outputId": "67b77929-4d5b-4176-83c7-7f6a1bb13f5e"
      },
      "execution_count": 7,
      "outputs": [
        {
          "output_type": "stream",
          "name": "stdout",
          "text": [
            "1.39 µs ± 10.8 ns per loop (mean ± std. dev. of 7 runs, 1000000 loops each)\n"
          ]
        }
      ]
    },
    {
      "cell_type": "code",
      "source": [
        "hof_3(10**8)[-1]"
      ],
      "metadata": {
        "colab": {
          "base_uri": "https://localhost:8080/"
        },
        "id": "soW_-wAe9NU9",
        "outputId": "14927f14-93db-40c3-9dfc-6bcefd18936a"
      },
      "execution_count": 8,
      "outputs": [
        {
          "output_type": "execute_result",
          "data": {
            "text/plain": [
              "100000000.0"
            ]
          },
          "metadata": {},
          "execution_count": 8
        }
      ]
    }
  ]
}